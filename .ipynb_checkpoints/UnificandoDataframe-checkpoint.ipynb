{
 "cells": [
  {
   "cell_type": "code",
   "execution_count": 1,
   "id": "d547bbf4-30a2-42e0-b254-c09fe3e865a0",
   "metadata": {},
   "outputs": [],
   "source": [
    "# Importação das Bibliotecas\n",
    "import pandas as pd\n",
    "import os"
   ]
  },
  {
   "cell_type": "code",
   "execution_count": 2,
   "id": "a96f389d-cd63-4bf6-8d71-b1df44d9a707",
   "metadata": {},
   "outputs": [],
   "source": [
    "# Função para calcular estatísticas para um sensor\n",
    "def calcular_estatisticas_sensor(file_path, sensor_prefix):\n",
    "    \"\"\"\n",
    "    Lê o arquivo do sensor, transforma para formato longo e calcula estatísticas por ciclo.\n",
    "    Retorna um DataFrame com as estatísticas e a coluna 'Ciclo'.\n",
    "    \"\"\"\n",
    "    # Ler o arquivo (assumindo que os dados estão separados por tabulação e sem cabeçalho)\n",
    "    df = pd.read_csv(file_path, delimiter=\"\\t\", header=None)\n",
    "    # Cada linha representa um ciclo; adiciona a coluna 'Ciclo'\n",
    "    df[\"Ciclo\"] = df.index + 1\n",
    "    \n",
    "    # Transforma o DataFrame de wide para long format: cada medição se torna uma linha\n",
    "    df_long = df.melt(id_vars=[\"Ciclo\"], var_name=\"Tempo\", value_name=f\"{sensor_prefix}_valor\")\n",
    "    df_long[\"Tempo\"] = df_long[\"Tempo\"].astype(int)\n",
    "    \n",
    "    # Calcular estatísticas agregadas por ciclo\n",
    "    estatisticas = df_long.groupby(\"Ciclo\")[f\"{sensor_prefix}_valor\"].agg(\n",
    "        media=\"mean\",\n",
    "        desvio=\"std\",\n",
    "        minimo=\"min\",\n",
    "        maximo=\"max\",\n",
    "        mediana=\"median\"\n",
    "    ).reset_index()\n",
    "    \n",
    "    # Renomear as colunas para incluir o prefixo do sensor\n",
    "    estatisticas = estatisticas.rename(columns={\n",
    "        \"media\": f\"{sensor_prefix}_media\",\n",
    "        \"desvio\": f\"{sensor_prefix}_desvio\",\n",
    "        \"minimo\": f\"{sensor_prefix}_min\",\n",
    "        \"maximo\": f\"{sensor_prefix}_max\",\n",
    "        \"mediana\": f\"{sensor_prefix}_mediana\"\n",
    "    })\n",
    "    \n",
    "    return estatisticas"
   ]
  },
  {
   "cell_type": "code",
   "execution_count": 3,
   "id": "73c57b38-8fa1-4834-9257-ce602af24209",
   "metadata": {},
   "outputs": [],
   "source": [
    "# Defina o caminho da pasta onde estão os arquivos\n",
    "data_folder = \"Dados\"\n",
    "\n",
    "# Lista todos os arquivos .txt na pasta, exceto o profile.txt (ignorando maiúsculas/minúsculas)\n",
    "all_files = [f for f in os.listdir(data_folder) \n",
    "             if f.endswith(\".txt\") and f.lower() != \"profile.txt\"]\n",
    "\n",
    "# Inicializa um DataFrame vazio para juntar os dados de todos os sensores\n",
    "df_all_sensors = None"
   ]
  },
  {
   "cell_type": "code",
   "execution_count": 4,
   "id": "c8a6714a-c3b4-415d-8f33-265e64703ff7",
   "metadata": {},
   "outputs": [
    {
     "name": "stdout",
     "output_type": "stream",
     "text": [
      "Estatísticas consolidadas dos sensores:\n",
      "   Ciclo   CE_media  CE_desvio  CE_min  CE_max  CE_mediana  CP_media  \\\n",
      "0      1  39.601350   6.370535  28.866  47.438     40.6755  1.862750   \n",
      "1      2  25.786433   1.686129  23.320  29.208     25.3855  1.255550   \n",
      "2      3  22.218233   0.638345  21.220  23.554     22.1040  1.113217   \n",
      "3      4  20.459817   0.455755  19.673  21.565     20.4805  1.062150   \n",
      "4      5  19.787017   0.290156  19.133  20.460     19.7985  1.070467   \n",
      "\n",
      "   CP_desvio  CP_min  CP_max  ...  TS4_media  TS4_desvio  TS4_min  TS4_max  \\\n",
      "0   0.279385   1.383   2.188  ...  31.745250    1.116478   30.363   33.594   \n",
      "1   0.074605   1.147   1.414  ...  34.493867    0.435312   33.648   35.148   \n",
      "2   0.023263   1.076   1.159  ...  35.646150    0.293889   35.098   36.141   \n",
      "3   0.024621   1.022   1.107  ...  36.579467    0.262397   36.105   36.988   \n",
      "4   0.021477   1.016   1.106  ...  37.427900    0.239571   36.992   37.781   \n",
      "\n",
      "   TS4_mediana  VS1_media  VS1_desvio  VS1_min  VS1_max  VS1_mediana  \n",
      "0       31.576   0.576950    0.027078    0.532    0.624       0.5770  \n",
      "1       34.553   0.565850    0.027241    0.524    0.626       0.5595  \n",
      "2       35.635   0.576533    0.036729    0.529    0.662       0.5620  \n",
      "3       36.635   0.569267    0.033464    0.527    0.645       0.5550  \n",
      "4       37.439   0.577367    0.033484    0.524    0.660       0.5760  \n",
      "\n",
      "[5 rows x 86 columns]\n"
     ]
    }
   ],
   "source": [
    "# Itera sobre os arquivos de sensores e calcula as estatísticas\n",
    "for file in all_files:\n",
    "    sensor_prefix = os.path.splitext(file)[0]  # extrai o nome do sensor (ex: \"CE\", \"PS1\", etc.)\n",
    "    file_path = os.path.join(data_folder, file)\n",
    "    sensor_df = calcular_estatisticas_sensor(file_path, sensor_prefix)\n",
    "    \n",
    "    # Se for o primeiro sensor, atribui ao DataFrame global; caso contrário, faz o merge\n",
    "    if df_all_sensors is None:\n",
    "        df_all_sensors = sensor_df\n",
    "    else:\n",
    "        df_all_sensors = pd.merge(df_all_sensors, sensor_df, on=\"Ciclo\", how=\"outer\")\n",
    "\n",
    "# Visualiza as primeiras linhas do DataFrame consolidado dos sensores\n",
    "print(\"Estatísticas consolidadas dos sensores:\")\n",
    "print(df_all_sensors.head())"
   ]
  },
  {
   "cell_type": "code",
   "execution_count": 5,
   "id": "e77eddea-76d2-4a94-8be4-90874ce52256",
   "metadata": {},
   "outputs": [],
   "source": [
    "# Ler o arquivo profile.txt que contém as condições dos ciclos\n",
    "profile_path = os.path.join(data_folder, \"profile.txt\")\n",
    "profile_df = pd.read_csv(profile_path, delimiter=\"\\t\", header=None, \n",
    "                         names=[\"Cooler_condition\", \"Valve_condition\", \"Pump_leakage\", \"Accumulator_pressure\", \"Stable_flag\"])\n",
    "\n",
    "# Adicionar a coluna 'Ciclo' para o profile (assumindo que o primeiro ciclo é o índice 0 + 1)\n",
    "profile_df[\"Ciclo\"] = profile_df.index + 1"
   ]
  },
  {
   "cell_type": "code",
   "execution_count": 6,
   "id": "b8eac9da-0c06-4c6b-afd7-4f9dfd83b001",
   "metadata": {},
   "outputs": [
    {
     "name": "stdout",
     "output_type": "stream",
     "text": [
      "DataFrame final unificado (sensores + profile.txt):\n",
      "   Ciclo   CE_media  CE_desvio  CE_min  CE_max  CE_mediana  CP_media  \\\n",
      "0      1  39.601350   6.370535  28.866  47.438     40.6755  1.862750   \n",
      "1      2  25.786433   1.686129  23.320  29.208     25.3855  1.255550   \n",
      "2      3  22.218233   0.638345  21.220  23.554     22.1040  1.113217   \n",
      "3      4  20.459817   0.455755  19.673  21.565     20.4805  1.062150   \n",
      "4      5  19.787017   0.290156  19.133  20.460     19.7985  1.070467   \n",
      "\n",
      "   CP_desvio  CP_min  CP_max  ...  VS1_media  VS1_desvio  VS1_min  VS1_max  \\\n",
      "0   0.279385   1.383   2.188  ...   0.576950    0.027078    0.532    0.624   \n",
      "1   0.074605   1.147   1.414  ...   0.565850    0.027241    0.524    0.626   \n",
      "2   0.023263   1.076   1.159  ...   0.576533    0.036729    0.529    0.662   \n",
      "3   0.024621   1.022   1.107  ...   0.569267    0.033464    0.527    0.645   \n",
      "4   0.021477   1.016   1.106  ...   0.577367    0.033484    0.524    0.660   \n",
      "\n",
      "   VS1_mediana  Cooler_condition  Valve_condition  Pump_leakage  \\\n",
      "0       0.5770                 3              100             0   \n",
      "1       0.5595                 3              100             0   \n",
      "2       0.5620                 3              100             0   \n",
      "3       0.5550                 3              100             0   \n",
      "4       0.5760                 3              100             0   \n",
      "\n",
      "   Accumulator_pressure  Stable_flag  \n",
      "0                   130            1  \n",
      "1                   130            1  \n",
      "2                   130            1  \n",
      "3                   130            1  \n",
      "4                   130            1  \n",
      "\n",
      "[5 rows x 91 columns]\n"
     ]
    }
   ],
   "source": [
    "# Fazer o merge entre os dados dos sensores e o profile.txt usando a coluna 'Ciclo'\n",
    "df_final = pd.merge(df_all_sensors, profile_df, on=\"Ciclo\", how=\"inner\")\n",
    "\n",
    "# Visualizar as primeiras linhas do DataFrame final unificado\n",
    "print(\"DataFrame final unificado (sensores + profile.txt):\")\n",
    "print(df_final.head())"
   ]
  },
  {
   "cell_type": "code",
   "execution_count": 9,
   "id": "d43d035d-779e-45f1-b49d-77e0663c3987",
   "metadata": {},
   "outputs": [
    {
     "data": {
      "text/plain": [
       "Ciclo                   0\n",
       "CE_media                0\n",
       "CE_desvio               0\n",
       "CE_min                  0\n",
       "CE_max                  0\n",
       "                       ..\n",
       "Cooler_condition        0\n",
       "Valve_condition         0\n",
       "Pump_leakage            0\n",
       "Accumulator_pressure    0\n",
       "Stable_flag             0\n",
       "Length: 91, dtype: int64"
      ]
     },
     "execution_count": 9,
     "metadata": {},
     "output_type": "execute_result"
    }
   ],
   "source": [
    "df_final.isna().sum()"
   ]
  },
  {
   "cell_type": "code",
   "execution_count": 10,
   "id": "237f15c1-22be-4314-9370-3d0c5bfb928e",
   "metadata": {},
   "outputs": [
    {
     "name": "stdout",
     "output_type": "stream",
     "text": [
      "Dataset salvo com sucesso em 'dataset_hydraulicSystems.csv'.\n"
     ]
    }
   ],
   "source": [
    "# Salvar o DataFrame final unificado em um arquivo CSV\n",
    "df_final.to_csv(\"dataset_hydraulicSystems.csv\", index=False)\n",
    "\n",
    "print(\"Dataset salvo com sucesso em 'dataset_hydraulicSystems.csv'.\")"
   ]
  },
  {
   "cell_type": "code",
   "execution_count": null,
   "id": "85220309-845d-49dc-a9c3-af46f88b217b",
   "metadata": {},
   "outputs": [],
   "source": []
  }
 ],
 "metadata": {
  "kernelspec": {
   "display_name": "Python 3 (ipykernel)",
   "language": "python",
   "name": "python3"
  },
  "language_info": {
   "codemirror_mode": {
    "name": "ipython",
    "version": 3
   },
   "file_extension": ".py",
   "mimetype": "text/x-python",
   "name": "python",
   "nbconvert_exporter": "python",
   "pygments_lexer": "ipython3",
   "version": "3.12.7"
  }
 },
 "nbformat": 4,
 "nbformat_minor": 5
}
